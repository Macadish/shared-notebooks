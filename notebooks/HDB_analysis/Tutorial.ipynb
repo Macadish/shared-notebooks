{
 "cells": [
  {
   "cell_type": "markdown",
   "metadata": {},
   "source": [
    "# Web Scraping Tutorial\n",
    "\n",
    "# Street Directory\n",
    "Download [html webpage] (https://bit.ly/2XzF1Jq) and open it in chrome.\n",
    "Inspect the website's source code, open up the console, and type in the following commands adapted from [here](https://bit.ly/3dChDAr)\n",
    "```javascript\n",
    "var geocode = new SDGeocode(map);\n",
    ">>> undefined\n",
    "var searchOption = {\"q\": \"Ang Mo Kio\"};\n",
    ">>> undefined\n",
    "var gc = SDGeocode.SG;\n",
    ">>> undefined\n",
    "geocode.requestData(gc, searchOption);\n",
    ">>>Uncaught ReferenceError\n",
    ">>>mode=search&act=all&output=js&callback=set_data&start=0&limit=20&country=sg&profile=template_1&show_additional=0&no_total=1&q=Ang Mo Kio:1\n",
    "```\n",
    "There should be a link containing the url for the query."
   ]
  },
  {
   "cell_type": "markdown",
   "metadata": {},
   "source": [
    "# Looking for places of interest around a location\n",
    "Check out onemap's api. https://docs.onemap.sg/#introduction"
   ]
  },
  {
   "cell_type": "markdown",
   "metadata": {},
   "source": [
    "# Scraping tools\n",
    "```python\n",
    "import urllib\n",
    "import requests\n",
    "from bs4 import BeautifulSoup\n",
    "import scrapy\n",
    "import requests # https://requests.readthedocs.io/en/master/user/advanced/\n",
    "```\n",
    "## Proxy\n",
    "In some situations, you may end up getting errors like `HTTP 429 - Too Many Requests`. To circumvent this issue, use a proxy. Look for a list of proxy providers (preferably free ones for light usage). http://spys.one/free-proxy-list/SG/ is one such provider.\n",
    "\n",
    "Next, configure urllib to use a proxy according to the instructions [here](https://docs.python.org/3/howto/urllib2.html#proxies).\n",
    "```python\n",
    "proxy_support = urllib.request.ProxyHandler({'http':'ip:port'})\n",
    "opener = urllib.request.build_opener(proxy_support)\n",
    "urllib.request.install_opener(opener)\n",
    "```\n",
    "\n",
    "\n",
    "## Javascript Scraping\n",
    "* https://stackoverflow.com/questions/8049520/web-scraping-javascript-page-with-python\n",
    "* https://towardsdatascience.com/data-science-skills-web-scraping-javascript-using-python-97a29738353f"
   ]
  },
  {
   "cell_type": "markdown",
   "metadata": {},
   "source": [
    "# Video Guides on GIS shapefiles\n",
    "https://www.youtube.com/channel/UCOSeGDrlScCNgBcN5C8nTEw"
   ]
  }
 ],
 "metadata": {
  "kernelspec": {
   "display_name": "Python 3",
   "language": "python",
   "name": "python3"
  },
  "language_info": {
   "codemirror_mode": {
    "name": "ipython",
    "version": 3
   },
   "file_extension": ".py",
   "mimetype": "text/x-python",
   "name": "python",
   "nbconvert_exporter": "python",
   "pygments_lexer": "ipython3",
   "version": "3.7.6"
  }
 },
 "nbformat": 4,
 "nbformat_minor": 4
}
