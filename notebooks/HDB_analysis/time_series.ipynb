{
 "cells": [
  {
   "cell_type": "code",
   "execution_count": 54,
   "metadata": {},
   "outputs": [
    {
     "name": "stdout",
     "output_type": "stream",
     "text": [
      "The autoreload extension is already loaded. To reload it, use:\n",
      "  %reload_ext autoreload\n"
     ]
    }
   ],
   "source": [
    "from __future__ import print_function\n",
    "%load_ext autoreload\n",
    "%autoreload 2\n",
    "from src.load import load_HDB, load_HDB_units\n",
    "from src.plot import plot_sectorcode_values\n",
    "from src.widget import basic_buttons\n",
    "\n",
    "from jupyter_dash import JupyterDash\n",
    "import dash\n",
    "import dash_core_components as dcc\n",
    "import dash_html_components as html\n",
    "from dash.dependencies import Input, Output, State\n",
    "import numpy as np\n",
    "import pandas as pd\n",
    "import geopandas\n",
    "import plotly.express as px\n",
    "import plotly.graph_objs as go\n",
    "import json"
   ]
  },
  {
   "cell_type": "code",
   "execution_count": 55,
   "metadata": {},
   "outputs": [],
   "source": [
    "# Load initial data\n",
    "hdbdata = load_HDB()\n",
    "hdbdata['remaining_lease']= 99 - (pd.to_datetime(hdbdata['month']).dt.year + pd.to_datetime(hdbdata['month']).dt.month/12 - hdbdata['lease_commence_date'])\n",
    "hdbdata.loc[hdbdata['flat_type']=='MULTI-GENERATION','flat_type']='MULTI GENERATION'"
   ]
  },
  {
   "cell_type": "code",
   "execution_count": 56,
   "metadata": {},
   "outputs": [
    {
     "data": {
      "application/vnd.plotly.v1+json": {
       "config": {
        "plotlyServerURL": "https://plot.ly"
       },
       "data": [
        {
         "mode": "lines",
         "name": "SC5",
         "type": "scatter",
         "x": [
          1970
         ],
         "y": [
          3.3969831707213722
         ]
        },
        {
         "mode": "lines",
         "name": "SC8",
         "type": "scatter",
         "x": [
          1970
         ],
         "y": [
          3.9857545346562655
         ]
        },
        {
         "mode": "lines",
         "name": "SC9",
         "type": "scatter",
         "x": [
          1970
         ],
         "y": [
          2.6819985319928894
         ]
        },
        {
         "mode": "lines",
         "name": "SC10",
         "type": "scatter",
         "x": [
          1970
         ],
         "y": [
          2.9910339232487444
         ]
        },
        {
         "mode": "lines",
         "name": "SC12",
         "type": "scatter",
         "x": [
          1970
         ],
         "y": [
          2.5536763247372627
         ]
        },
        {
         "mode": "lines",
         "name": "SC13",
         "type": "scatter",
         "x": [
          1970
         ],
         "y": [
          2.9277061732287093
         ]
        },
        {
         "mode": "lines",
         "name": "SC14",
         "type": "scatter",
         "x": [
          1970
         ],
         "y": [
          2.8097893704564374
         ]
        },
        {
         "mode": "lines",
         "name": "SC15",
         "type": "scatter",
         "x": [
          1970
         ],
         "y": [
          2.9976008582240654
         ]
        },
        {
         "mode": "lines",
         "name": "SC16",
         "type": "scatter",
         "x": [
          1970
         ],
         "y": [
          3.252336126051451
         ]
        },
        {
         "mode": "lines",
         "name": "SC18",
         "type": "scatter",
         "x": [
          1970
         ],
         "y": [
          3.2443222919585053
         ]
        },
        {
         "mode": "lines",
         "name": "SC19",
         "type": "scatter",
         "x": [
          1970
         ],
         "y": [
          3.016635737409838
         ]
        },
        {
         "mode": "lines",
         "name": "SC20",
         "type": "scatter",
         "x": [
          1970
         ],
         "y": [
          2.922841281330395
         ]
        },
        {
         "mode": "lines",
         "name": "SC21",
         "type": "scatter",
         "x": [
          1970
         ],
         "y": [
          2.9988091646989585
         ]
        },
        {
         "mode": "lines",
         "name": "SC26",
         "type": "scatter",
         "x": [
          1970
         ],
         "y": [
          3.1953588254689906
         ]
        },
        {
         "mode": "lines",
         "name": "SC27",
         "type": "scatter",
         "x": [
          1970
         ],
         "y": [
          3.0704307460680056
         ]
        },
        {
         "mode": "lines",
         "name": "SC30",
         "type": "scatter",
         "x": [
          1970
         ],
         "y": [
          3.0343021036165183
         ]
        },
        {
         "mode": "lines",
         "name": "SC31",
         "type": "scatter",
         "x": [
          1970
         ],
         "y": [
          2.846628857554468
         ]
        },
        {
         "mode": "lines",
         "name": "SC32",
         "type": "scatter",
         "x": [
          1970
         ],
         "y": [
          2.738104861320851
         ]
        },
        {
         "mode": "lines",
         "name": "SC33",
         "type": "scatter",
         "x": [
          1970
         ],
         "y": [
          2.7744119667521625
         ]
        },
        {
         "mode": "lines",
         "name": "SC35",
         "type": "scatter",
         "x": [
          1970
         ],
         "y": [
          2.365096687892228
         ]
        },
        {
         "mode": "lines",
         "name": "SC36",
         "type": "scatter",
         "x": [
          1970
         ],
         "y": [
          2.3173258608329834
         ]
        },
        {
         "mode": "lines",
         "name": "SC37",
         "type": "scatter",
         "x": [
          1970
         ],
         "y": [
          2.5740590928966824
         ]
        },
        {
         "mode": "lines",
         "name": "SC38",
         "type": "scatter",
         "x": [
          1970
         ],
         "y": [
          2.593645996755696
         ]
        },
        {
         "mode": "lines",
         "name": "SC39",
         "type": "scatter",
         "x": [
          1970
         ],
         "y": [
          3.219271281256198
         ]
        },
        {
         "mode": "lines",
         "name": "SC40",
         "type": "scatter",
         "x": [
          1970
         ],
         "y": [
          2.417190717771017
         ]
        },
        {
         "mode": "lines",
         "name": "SC41",
         "type": "scatter",
         "x": [
          1970
         ],
         "y": [
          2.6560562429462604
         ]
        },
        {
         "mode": "lines",
         "name": "SC42",
         "type": "scatter",
         "x": [
          1970
         ],
         "y": [
          2.4168831582975283
         ]
        },
        {
         "mode": "lines",
         "name": "SC43",
         "type": "scatter",
         "x": [
          1970
         ],
         "y": [
          2.597984073402895
         ]
        },
        {
         "mode": "lines",
         "name": "SC44",
         "type": "scatter",
         "x": [
          1970
         ],
         "y": [
          3.2706509539763338
         ]
        },
        {
         "mode": "lines",
         "name": "SC45",
         "type": "scatter",
         "x": [
          1970
         ],
         "y": [
          2.1270253067630898
         ]
        },
        {
         "mode": "lines",
         "name": "SC46",
         "type": "scatter",
         "x": [
          1970
         ],
         "y": [
          2.413919682662739
         ]
        },
        {
         "mode": "lines",
         "name": "SC47",
         "type": "scatter",
         "x": [
          1970
         ],
         "y": [
          2.260830813133643
         ]
        },
        {
         "mode": "lines",
         "name": "SC50",
         "type": "scatter",
         "x": [
          1970
         ],
         "y": [
          2.624970105883102
         ]
        },
        {
         "mode": "lines",
         "name": "SC51",
         "type": "scatter",
         "x": [
          1970
         ],
         "y": [
          2.3628749876135235
         ]
        },
        {
         "mode": "lines",
         "name": "SC52",
         "type": "scatter",
         "x": [
          1970
         ],
         "y": [
          2.3539933270691376
         ]
        },
        {
         "mode": "lines",
         "name": "SC53",
         "type": "scatter",
         "x": [
          1970
         ],
         "y": [
          2.283691972590767
         ]
        },
        {
         "mode": "lines",
         "name": "SC54",
         "type": "scatter",
         "x": [
          1970
         ],
         "y": [
          2.6903847278962694
         ]
        },
        {
         "mode": "lines",
         "name": "SC55",
         "type": "scatter",
         "x": [
          1970
         ],
         "y": [
          2.451876176454794
         ]
        },
        {
         "mode": "lines",
         "name": "SC56",
         "type": "scatter",
         "x": [
          1970
         ],
         "y": [
          2.4099609312137145
         ]
        },
        {
         "mode": "lines",
         "name": "SC57",
         "type": "scatter",
         "x": [
          1970
         ],
         "y": [
          2.9077532882505204
         ]
        },
        {
         "mode": "lines",
         "name": "SC59",
         "type": "scatter",
         "x": [
          1970
         ],
         "y": [
          3.1172631493867984
         ]
        },
        {
         "mode": "lines",
         "name": "SC60",
         "type": "scatter",
         "x": [
          1970
         ],
         "y": [
          2.189819052598981
         ]
        },
        {
         "mode": "lines",
         "name": "SC61",
         "type": "scatter",
         "x": [
          1970
         ],
         "y": [
          2.0661725649728173
         ]
        },
        {
         "mode": "lines",
         "name": "SC64",
         "type": "scatter",
         "x": [
          1970
         ],
         "y": [
          2.114553807762377
         ]
        },
        {
         "mode": "lines",
         "name": "SC65",
         "type": "scatter",
         "x": [
          1970
         ],
         "y": [
          2.159876877984798
         ]
        },
        {
         "mode": "lines",
         "name": "SC66",
         "type": "scatter",
         "x": [
          1970
         ],
         "y": [
          2.5818227162897887
         ]
        },
        {
         "mode": "lines",
         "name": "SC67",
         "type": "scatter",
         "x": [
          1970
         ],
         "y": [
          2.1899551550862513
         ]
        },
        {
         "mode": "lines",
         "name": "SC68",
         "type": "scatter",
         "x": [
          1970
         ],
         "y": [
          2.142844855257193
         ]
        },
        {
         "mode": "lines",
         "name": "SC71",
         "type": "scatter",
         "x": [
          1970
         ],
         "y": [
          0.7948220650934494
         ]
        },
        {
         "mode": "lines",
         "name": "SC73",
         "type": "scatter",
         "x": [
          1970
         ],
         "y": [
          2.0456394007391188
         ]
        },
        {
         "mode": "lines",
         "name": "SC75",
         "type": "scatter",
         "x": [
          1970
         ],
         "y": [
          2.361112643569413
         ]
        },
        {
         "mode": "lines",
         "name": "SC76",
         "type": "scatter",
         "x": [
          1970
         ],
         "y": [
          2.1064057905899154
         ]
        },
        {
         "mode": "lines",
         "name": "SC79",
         "type": "scatter",
         "x": [
          1970
         ],
         "y": [
          2.9696653551494174
         ]
        },
        {
         "mode": "lines",
         "name": "SC82",
         "type": "scatter",
         "x": [
          1970
         ],
         "y": [
          2.9650389565344772
         ]
        }
       ],
       "layout": {
        "template": {
         "data": {
          "bar": [
           {
            "error_x": {
             "color": "#2a3f5f"
            },
            "error_y": {
             "color": "#2a3f5f"
            },
            "marker": {
             "line": {
              "color": "#E5ECF6",
              "width": 0.5
             }
            },
            "type": "bar"
           }
          ],
          "barpolar": [
           {
            "marker": {
             "line": {
              "color": "#E5ECF6",
              "width": 0.5
             }
            },
            "type": "barpolar"
           }
          ],
          "carpet": [
           {
            "aaxis": {
             "endlinecolor": "#2a3f5f",
             "gridcolor": "white",
             "linecolor": "white",
             "minorgridcolor": "white",
             "startlinecolor": "#2a3f5f"
            },
            "baxis": {
             "endlinecolor": "#2a3f5f",
             "gridcolor": "white",
             "linecolor": "white",
             "minorgridcolor": "white",
             "startlinecolor": "#2a3f5f"
            },
            "type": "carpet"
           }
          ],
          "choropleth": [
           {
            "colorbar": {
             "outlinewidth": 0,
             "ticks": ""
            },
            "type": "choropleth"
           }
          ],
          "contour": [
           {
            "colorbar": {
             "outlinewidth": 0,
             "ticks": ""
            },
            "colorscale": [
             [
              0,
              "#0d0887"
             ],
             [
              0.1111111111111111,
              "#46039f"
             ],
             [
              0.2222222222222222,
              "#7201a8"
             ],
             [
              0.3333333333333333,
              "#9c179e"
             ],
             [
              0.4444444444444444,
              "#bd3786"
             ],
             [
              0.5555555555555556,
              "#d8576b"
             ],
             [
              0.6666666666666666,
              "#ed7953"
             ],
             [
              0.7777777777777778,
              "#fb9f3a"
             ],
             [
              0.8888888888888888,
              "#fdca26"
             ],
             [
              1,
              "#f0f921"
             ]
            ],
            "type": "contour"
           }
          ],
          "contourcarpet": [
           {
            "colorbar": {
             "outlinewidth": 0,
             "ticks": ""
            },
            "type": "contourcarpet"
           }
          ],
          "heatmap": [
           {
            "colorbar": {
             "outlinewidth": 0,
             "ticks": ""
            },
            "colorscale": [
             [
              0,
              "#0d0887"
             ],
             [
              0.1111111111111111,
              "#46039f"
             ],
             [
              0.2222222222222222,
              "#7201a8"
             ],
             [
              0.3333333333333333,
              "#9c179e"
             ],
             [
              0.4444444444444444,
              "#bd3786"
             ],
             [
              0.5555555555555556,
              "#d8576b"
             ],
             [
              0.6666666666666666,
              "#ed7953"
             ],
             [
              0.7777777777777778,
              "#fb9f3a"
             ],
             [
              0.8888888888888888,
              "#fdca26"
             ],
             [
              1,
              "#f0f921"
             ]
            ],
            "type": "heatmap"
           }
          ],
          "heatmapgl": [
           {
            "colorbar": {
             "outlinewidth": 0,
             "ticks": ""
            },
            "colorscale": [
             [
              0,
              "#0d0887"
             ],
             [
              0.1111111111111111,
              "#46039f"
             ],
             [
              0.2222222222222222,
              "#7201a8"
             ],
             [
              0.3333333333333333,
              "#9c179e"
             ],
             [
              0.4444444444444444,
              "#bd3786"
             ],
             [
              0.5555555555555556,
              "#d8576b"
             ],
             [
              0.6666666666666666,
              "#ed7953"
             ],
             [
              0.7777777777777778,
              "#fb9f3a"
             ],
             [
              0.8888888888888888,
              "#fdca26"
             ],
             [
              1,
              "#f0f921"
             ]
            ],
            "type": "heatmapgl"
           }
          ],
          "histogram": [
           {
            "marker": {
             "colorbar": {
              "outlinewidth": 0,
              "ticks": ""
             }
            },
            "type": "histogram"
           }
          ],
          "histogram2d": [
           {
            "colorbar": {
             "outlinewidth": 0,
             "ticks": ""
            },
            "colorscale": [
             [
              0,
              "#0d0887"
             ],
             [
              0.1111111111111111,
              "#46039f"
             ],
             [
              0.2222222222222222,
              "#7201a8"
             ],
             [
              0.3333333333333333,
              "#9c179e"
             ],
             [
              0.4444444444444444,
              "#bd3786"
             ],
             [
              0.5555555555555556,
              "#d8576b"
             ],
             [
              0.6666666666666666,
              "#ed7953"
             ],
             [
              0.7777777777777778,
              "#fb9f3a"
             ],
             [
              0.8888888888888888,
              "#fdca26"
             ],
             [
              1,
              "#f0f921"
             ]
            ],
            "type": "histogram2d"
           }
          ],
          "histogram2dcontour": [
           {
            "colorbar": {
             "outlinewidth": 0,
             "ticks": ""
            },
            "colorscale": [
             [
              0,
              "#0d0887"
             ],
             [
              0.1111111111111111,
              "#46039f"
             ],
             [
              0.2222222222222222,
              "#7201a8"
             ],
             [
              0.3333333333333333,
              "#9c179e"
             ],
             [
              0.4444444444444444,
              "#bd3786"
             ],
             [
              0.5555555555555556,
              "#d8576b"
             ],
             [
              0.6666666666666666,
              "#ed7953"
             ],
             [
              0.7777777777777778,
              "#fb9f3a"
             ],
             [
              0.8888888888888888,
              "#fdca26"
             ],
             [
              1,
              "#f0f921"
             ]
            ],
            "type": "histogram2dcontour"
           }
          ],
          "mesh3d": [
           {
            "colorbar": {
             "outlinewidth": 0,
             "ticks": ""
            },
            "type": "mesh3d"
           }
          ],
          "parcoords": [
           {
            "line": {
             "colorbar": {
              "outlinewidth": 0,
              "ticks": ""
             }
            },
            "type": "parcoords"
           }
          ],
          "pie": [
           {
            "automargin": true,
            "type": "pie"
           }
          ],
          "scatter": [
           {
            "marker": {
             "colorbar": {
              "outlinewidth": 0,
              "ticks": ""
             }
            },
            "type": "scatter"
           }
          ],
          "scatter3d": [
           {
            "line": {
             "colorbar": {
              "outlinewidth": 0,
              "ticks": ""
             }
            },
            "marker": {
             "colorbar": {
              "outlinewidth": 0,
              "ticks": ""
             }
            },
            "type": "scatter3d"
           }
          ],
          "scattercarpet": [
           {
            "marker": {
             "colorbar": {
              "outlinewidth": 0,
              "ticks": ""
             }
            },
            "type": "scattercarpet"
           }
          ],
          "scattergeo": [
           {
            "marker": {
             "colorbar": {
              "outlinewidth": 0,
              "ticks": ""
             }
            },
            "type": "scattergeo"
           }
          ],
          "scattergl": [
           {
            "marker": {
             "colorbar": {
              "outlinewidth": 0,
              "ticks": ""
             }
            },
            "type": "scattergl"
           }
          ],
          "scattermapbox": [
           {
            "marker": {
             "colorbar": {
              "outlinewidth": 0,
              "ticks": ""
             }
            },
            "type": "scattermapbox"
           }
          ],
          "scatterpolar": [
           {
            "marker": {
             "colorbar": {
              "outlinewidth": 0,
              "ticks": ""
             }
            },
            "type": "scatterpolar"
           }
          ],
          "scatterpolargl": [
           {
            "marker": {
             "colorbar": {
              "outlinewidth": 0,
              "ticks": ""
             }
            },
            "type": "scatterpolargl"
           }
          ],
          "scatterternary": [
           {
            "marker": {
             "colorbar": {
              "outlinewidth": 0,
              "ticks": ""
             }
            },
            "type": "scatterternary"
           }
          ],
          "surface": [
           {
            "colorbar": {
             "outlinewidth": 0,
             "ticks": ""
            },
            "colorscale": [
             [
              0,
              "#0d0887"
             ],
             [
              0.1111111111111111,
              "#46039f"
             ],
             [
              0.2222222222222222,
              "#7201a8"
             ],
             [
              0.3333333333333333,
              "#9c179e"
             ],
             [
              0.4444444444444444,
              "#bd3786"
             ],
             [
              0.5555555555555556,
              "#d8576b"
             ],
             [
              0.6666666666666666,
              "#ed7953"
             ],
             [
              0.7777777777777778,
              "#fb9f3a"
             ],
             [
              0.8888888888888888,
              "#fdca26"
             ],
             [
              1,
              "#f0f921"
             ]
            ],
            "type": "surface"
           }
          ],
          "table": [
           {
            "cells": {
             "fill": {
              "color": "#EBF0F8"
             },
             "line": {
              "color": "white"
             }
            },
            "header": {
             "fill": {
              "color": "#C8D4E3"
             },
             "line": {
              "color": "white"
             }
            },
            "type": "table"
           }
          ]
         },
         "layout": {
          "annotationdefaults": {
           "arrowcolor": "#2a3f5f",
           "arrowhead": 0,
           "arrowwidth": 1
          },
          "coloraxis": {
           "colorbar": {
            "outlinewidth": 0,
            "ticks": ""
           }
          },
          "colorscale": {
           "diverging": [
            [
             0,
             "#8e0152"
            ],
            [
             0.1,
             "#c51b7d"
            ],
            [
             0.2,
             "#de77ae"
            ],
            [
             0.3,
             "#f1b6da"
            ],
            [
             0.4,
             "#fde0ef"
            ],
            [
             0.5,
             "#f7f7f7"
            ],
            [
             0.6,
             "#e6f5d0"
            ],
            [
             0.7,
             "#b8e186"
            ],
            [
             0.8,
             "#7fbc41"
            ],
            [
             0.9,
             "#4d9221"
            ],
            [
             1,
             "#276419"
            ]
           ],
           "sequential": [
            [
             0,
             "#0d0887"
            ],
            [
             0.1111111111111111,
             "#46039f"
            ],
            [
             0.2222222222222222,
             "#7201a8"
            ],
            [
             0.3333333333333333,
             "#9c179e"
            ],
            [
             0.4444444444444444,
             "#bd3786"
            ],
            [
             0.5555555555555556,
             "#d8576b"
            ],
            [
             0.6666666666666666,
             "#ed7953"
            ],
            [
             0.7777777777777778,
             "#fb9f3a"
            ],
            [
             0.8888888888888888,
             "#fdca26"
            ],
            [
             1,
             "#f0f921"
            ]
           ],
           "sequentialminus": [
            [
             0,
             "#0d0887"
            ],
            [
             0.1111111111111111,
             "#46039f"
            ],
            [
             0.2222222222222222,
             "#7201a8"
            ],
            [
             0.3333333333333333,
             "#9c179e"
            ],
            [
             0.4444444444444444,
             "#bd3786"
            ],
            [
             0.5555555555555556,
             "#d8576b"
            ],
            [
             0.6666666666666666,
             "#ed7953"
            ],
            [
             0.7777777777777778,
             "#fb9f3a"
            ],
            [
             0.8888888888888888,
             "#fdca26"
            ],
            [
             1,
             "#f0f921"
            ]
           ]
          },
          "colorway": [
           "#636efa",
           "#EF553B",
           "#00cc96",
           "#ab63fa",
           "#FFA15A",
           "#19d3f3",
           "#FF6692",
           "#B6E880",
           "#FF97FF",
           "#FECB52"
          ],
          "font": {
           "color": "#2a3f5f"
          },
          "geo": {
           "bgcolor": "white",
           "lakecolor": "white",
           "landcolor": "#E5ECF6",
           "showlakes": true,
           "showland": true,
           "subunitcolor": "white"
          },
          "hoverlabel": {
           "align": "left"
          },
          "hovermode": "closest",
          "mapbox": {
           "style": "light"
          },
          "paper_bgcolor": "white",
          "plot_bgcolor": "#E5ECF6",
          "polar": {
           "angularaxis": {
            "gridcolor": "white",
            "linecolor": "white",
            "ticks": ""
           },
           "bgcolor": "#E5ECF6",
           "radialaxis": {
            "gridcolor": "white",
            "linecolor": "white",
            "ticks": ""
           }
          },
          "scene": {
           "xaxis": {
            "backgroundcolor": "#E5ECF6",
            "gridcolor": "white",
            "gridwidth": 2,
            "linecolor": "white",
            "showbackground": true,
            "ticks": "",
            "zerolinecolor": "white"
           },
           "yaxis": {
            "backgroundcolor": "#E5ECF6",
            "gridcolor": "white",
            "gridwidth": 2,
            "linecolor": "white",
            "showbackground": true,
            "ticks": "",
            "zerolinecolor": "white"
           },
           "zaxis": {
            "backgroundcolor": "#E5ECF6",
            "gridcolor": "white",
            "gridwidth": 2,
            "linecolor": "white",
            "showbackground": true,
            "ticks": "",
            "zerolinecolor": "white"
           }
          },
          "shapedefaults": {
           "line": {
            "color": "#2a3f5f"
           }
          },
          "ternary": {
           "aaxis": {
            "gridcolor": "white",
            "linecolor": "white",
            "ticks": ""
           },
           "baxis": {
            "gridcolor": "white",
            "linecolor": "white",
            "ticks": ""
           },
           "bgcolor": "#E5ECF6",
           "caxis": {
            "gridcolor": "white",
            "linecolor": "white",
            "ticks": ""
           }
          },
          "title": {
           "x": 0.05
          },
          "xaxis": {
           "automargin": true,
           "gridcolor": "white",
           "linecolor": "white",
           "ticks": "",
           "title": {
            "standoff": 15
           },
           "zerolinecolor": "white",
           "zerolinewidth": 2
          },
          "yaxis": {
           "automargin": true,
           "gridcolor": "white",
           "linecolor": "white",
           "ticks": "",
           "title": {
            "standoff": 15
           },
           "zerolinecolor": "white",
           "zerolinewidth": 2
          }
         }
        },
        "title": {
         "text": "Price per sqft per year remaining"
        },
        "xaxis": {
         "title": {
          "text": "Transaction date"
         }
        },
        "yaxis": {
         "title": {
          "text": "Price ($/sqft/year)"
         }
        }
       }
      },
      "text/html": [
       "<div>\n",
       "        \n",
       "        \n",
       "            <div id=\"c75abad6-7456-4dab-a2ba-1a6e81b83246\" class=\"plotly-graph-div\" style=\"height:525px; width:100%;\"></div>\n",
       "            <script type=\"text/javascript\">\n",
       "                require([\"plotly\"], function(Plotly) {\n",
       "                    window.PLOTLYENV=window.PLOTLYENV || {};\n",
       "                    \n",
       "                if (document.getElementById(\"c75abad6-7456-4dab-a2ba-1a6e81b83246\")) {\n",
       "                    Plotly.newPlot(\n",
       "                        'c75abad6-7456-4dab-a2ba-1a6e81b83246',\n",
       "                        [{\"mode\": \"lines\", \"name\": \"SC5\", \"type\": \"scatter\", \"x\": [1970], \"y\": [3.3969831707213722]}, {\"mode\": \"lines\", \"name\": \"SC8\", \"type\": \"scatter\", \"x\": [1970], \"y\": [3.9857545346562655]}, {\"mode\": \"lines\", \"name\": \"SC9\", \"type\": \"scatter\", \"x\": [1970], \"y\": [2.6819985319928894]}, {\"mode\": \"lines\", \"name\": \"SC10\", \"type\": \"scatter\", \"x\": [1970], \"y\": [2.9910339232487444]}, {\"mode\": \"lines\", \"name\": \"SC12\", \"type\": \"scatter\", \"x\": [1970], \"y\": [2.5536763247372627]}, {\"mode\": \"lines\", \"name\": \"SC13\", \"type\": \"scatter\", \"x\": [1970], \"y\": [2.9277061732287093]}, {\"mode\": \"lines\", \"name\": \"SC14\", \"type\": \"scatter\", \"x\": [1970], \"y\": [2.8097893704564374]}, {\"mode\": \"lines\", \"name\": \"SC15\", \"type\": \"scatter\", \"x\": [1970], \"y\": [2.9976008582240654]}, {\"mode\": \"lines\", \"name\": \"SC16\", \"type\": \"scatter\", \"x\": [1970], \"y\": [3.252336126051451]}, {\"mode\": \"lines\", \"name\": \"SC18\", \"type\": \"scatter\", \"x\": [1970], \"y\": [3.2443222919585053]}, {\"mode\": \"lines\", \"name\": \"SC19\", \"type\": \"scatter\", \"x\": [1970], \"y\": [3.016635737409838]}, {\"mode\": \"lines\", \"name\": \"SC20\", \"type\": \"scatter\", \"x\": [1970], \"y\": [2.922841281330395]}, {\"mode\": \"lines\", \"name\": \"SC21\", \"type\": \"scatter\", \"x\": [1970], \"y\": [2.9988091646989585]}, {\"mode\": \"lines\", \"name\": \"SC26\", \"type\": \"scatter\", \"x\": [1970], \"y\": [3.1953588254689906]}, {\"mode\": \"lines\", \"name\": \"SC27\", \"type\": \"scatter\", \"x\": [1970], \"y\": [3.0704307460680056]}, {\"mode\": \"lines\", \"name\": \"SC30\", \"type\": \"scatter\", \"x\": [1970], \"y\": [3.0343021036165183]}, {\"mode\": \"lines\", \"name\": \"SC31\", \"type\": \"scatter\", \"x\": [1970], \"y\": [2.846628857554468]}, {\"mode\": \"lines\", \"name\": \"SC32\", \"type\": \"scatter\", \"x\": [1970], \"y\": [2.738104861320851]}, {\"mode\": \"lines\", \"name\": \"SC33\", \"type\": \"scatter\", \"x\": [1970], \"y\": [2.7744119667521625]}, {\"mode\": \"lines\", \"name\": \"SC35\", \"type\": \"scatter\", \"x\": [1970], \"y\": [2.365096687892228]}, {\"mode\": \"lines\", \"name\": \"SC36\", \"type\": \"scatter\", \"x\": [1970], \"y\": [2.3173258608329834]}, {\"mode\": \"lines\", \"name\": \"SC37\", \"type\": \"scatter\", \"x\": [1970], \"y\": [2.5740590928966824]}, {\"mode\": \"lines\", \"name\": \"SC38\", \"type\": \"scatter\", \"x\": [1970], \"y\": [2.593645996755696]}, {\"mode\": \"lines\", \"name\": \"SC39\", \"type\": \"scatter\", \"x\": [1970], \"y\": [3.219271281256198]}, {\"mode\": \"lines\", \"name\": \"SC40\", \"type\": \"scatter\", \"x\": [1970], \"y\": [2.417190717771017]}, {\"mode\": \"lines\", \"name\": \"SC41\", \"type\": \"scatter\", \"x\": [1970], \"y\": [2.6560562429462604]}, {\"mode\": \"lines\", \"name\": \"SC42\", \"type\": \"scatter\", \"x\": [1970], \"y\": [2.4168831582975283]}, {\"mode\": \"lines\", \"name\": \"SC43\", \"type\": \"scatter\", \"x\": [1970], \"y\": [2.597984073402895]}, {\"mode\": \"lines\", \"name\": \"SC44\", \"type\": \"scatter\", \"x\": [1970], \"y\": [3.2706509539763338]}, {\"mode\": \"lines\", \"name\": \"SC45\", \"type\": \"scatter\", \"x\": [1970], \"y\": [2.1270253067630898]}, {\"mode\": \"lines\", \"name\": \"SC46\", \"type\": \"scatter\", \"x\": [1970], \"y\": [2.413919682662739]}, {\"mode\": \"lines\", \"name\": \"SC47\", \"type\": \"scatter\", \"x\": [1970], \"y\": [2.260830813133643]}, {\"mode\": \"lines\", \"name\": \"SC50\", \"type\": \"scatter\", \"x\": [1970], \"y\": [2.624970105883102]}, {\"mode\": \"lines\", \"name\": \"SC51\", \"type\": \"scatter\", \"x\": [1970], \"y\": [2.3628749876135235]}, {\"mode\": \"lines\", \"name\": \"SC52\", \"type\": \"scatter\", \"x\": [1970], \"y\": [2.3539933270691376]}, {\"mode\": \"lines\", \"name\": \"SC53\", \"type\": \"scatter\", \"x\": [1970], \"y\": [2.283691972590767]}, {\"mode\": \"lines\", \"name\": \"SC54\", \"type\": \"scatter\", \"x\": [1970], \"y\": [2.6903847278962694]}, {\"mode\": \"lines\", \"name\": \"SC55\", \"type\": \"scatter\", \"x\": [1970], \"y\": [2.451876176454794]}, {\"mode\": \"lines\", \"name\": \"SC56\", \"type\": \"scatter\", \"x\": [1970], \"y\": [2.4099609312137145]}, {\"mode\": \"lines\", \"name\": \"SC57\", \"type\": \"scatter\", \"x\": [1970], \"y\": [2.9077532882505204]}, {\"mode\": \"lines\", \"name\": \"SC59\", \"type\": \"scatter\", \"x\": [1970], \"y\": [3.1172631493867984]}, {\"mode\": \"lines\", \"name\": \"SC60\", \"type\": \"scatter\", \"x\": [1970], \"y\": [2.189819052598981]}, {\"mode\": \"lines\", \"name\": \"SC61\", \"type\": \"scatter\", \"x\": [1970], \"y\": [2.0661725649728173]}, {\"mode\": \"lines\", \"name\": \"SC64\", \"type\": \"scatter\", \"x\": [1970], \"y\": [2.114553807762377]}, {\"mode\": \"lines\", \"name\": \"SC65\", \"type\": \"scatter\", \"x\": [1970], \"y\": [2.159876877984798]}, {\"mode\": \"lines\", \"name\": \"SC66\", \"type\": \"scatter\", \"x\": [1970], \"y\": [2.5818227162897887]}, {\"mode\": \"lines\", \"name\": \"SC67\", \"type\": \"scatter\", \"x\": [1970], \"y\": [2.1899551550862513]}, {\"mode\": \"lines\", \"name\": \"SC68\", \"type\": \"scatter\", \"x\": [1970], \"y\": [2.142844855257193]}, {\"mode\": \"lines\", \"name\": \"SC71\", \"type\": \"scatter\", \"x\": [1970], \"y\": [0.7948220650934494]}, {\"mode\": \"lines\", \"name\": \"SC73\", \"type\": \"scatter\", \"x\": [1970], \"y\": [2.0456394007391188]}, {\"mode\": \"lines\", \"name\": \"SC75\", \"type\": \"scatter\", \"x\": [1970], \"y\": [2.361112643569413]}, {\"mode\": \"lines\", \"name\": \"SC76\", \"type\": \"scatter\", \"x\": [1970], \"y\": [2.1064057905899154]}, {\"mode\": \"lines\", \"name\": \"SC79\", \"type\": \"scatter\", \"x\": [1970], \"y\": [2.9696653551494174]}, {\"mode\": \"lines\", \"name\": \"SC82\", \"type\": \"scatter\", \"x\": [1970], \"y\": [2.9650389565344772]}],\n",
       "                        {\"template\": {\"data\": {\"bar\": [{\"error_x\": {\"color\": \"#2a3f5f\"}, \"error_y\": {\"color\": \"#2a3f5f\"}, \"marker\": {\"line\": {\"color\": \"#E5ECF6\", \"width\": 0.5}}, \"type\": \"bar\"}], \"barpolar\": [{\"marker\": {\"line\": {\"color\": \"#E5ECF6\", \"width\": 0.5}}, \"type\": \"barpolar\"}], \"carpet\": [{\"aaxis\": {\"endlinecolor\": \"#2a3f5f\", \"gridcolor\": \"white\", \"linecolor\": \"white\", \"minorgridcolor\": \"white\", \"startlinecolor\": \"#2a3f5f\"}, \"baxis\": {\"endlinecolor\": \"#2a3f5f\", \"gridcolor\": \"white\", \"linecolor\": \"white\", \"minorgridcolor\": \"white\", \"startlinecolor\": \"#2a3f5f\"}, \"type\": \"carpet\"}], \"choropleth\": [{\"colorbar\": {\"outlinewidth\": 0, \"ticks\": \"\"}, \"type\": \"choropleth\"}], \"contour\": [{\"colorbar\": {\"outlinewidth\": 0, \"ticks\": \"\"}, \"colorscale\": [[0.0, \"#0d0887\"], [0.1111111111111111, \"#46039f\"], [0.2222222222222222, \"#7201a8\"], [0.3333333333333333, \"#9c179e\"], [0.4444444444444444, \"#bd3786\"], [0.5555555555555556, \"#d8576b\"], [0.6666666666666666, \"#ed7953\"], [0.7777777777777778, \"#fb9f3a\"], [0.8888888888888888, \"#fdca26\"], [1.0, \"#f0f921\"]], \"type\": \"contour\"}], \"contourcarpet\": [{\"colorbar\": {\"outlinewidth\": 0, \"ticks\": \"\"}, \"type\": \"contourcarpet\"}], \"heatmap\": [{\"colorbar\": {\"outlinewidth\": 0, \"ticks\": \"\"}, \"colorscale\": [[0.0, \"#0d0887\"], [0.1111111111111111, \"#46039f\"], [0.2222222222222222, \"#7201a8\"], [0.3333333333333333, \"#9c179e\"], [0.4444444444444444, \"#bd3786\"], [0.5555555555555556, \"#d8576b\"], [0.6666666666666666, \"#ed7953\"], [0.7777777777777778, \"#fb9f3a\"], [0.8888888888888888, \"#fdca26\"], [1.0, \"#f0f921\"]], \"type\": \"heatmap\"}], \"heatmapgl\": [{\"colorbar\": {\"outlinewidth\": 0, \"ticks\": \"\"}, \"colorscale\": [[0.0, \"#0d0887\"], [0.1111111111111111, \"#46039f\"], [0.2222222222222222, \"#7201a8\"], [0.3333333333333333, \"#9c179e\"], [0.4444444444444444, \"#bd3786\"], [0.5555555555555556, \"#d8576b\"], [0.6666666666666666, \"#ed7953\"], [0.7777777777777778, \"#fb9f3a\"], [0.8888888888888888, \"#fdca26\"], [1.0, \"#f0f921\"]], \"type\": \"heatmapgl\"}], \"histogram\": [{\"marker\": {\"colorbar\": {\"outlinewidth\": 0, \"ticks\": \"\"}}, \"type\": \"histogram\"}], \"histogram2d\": [{\"colorbar\": {\"outlinewidth\": 0, \"ticks\": \"\"}, \"colorscale\": [[0.0, \"#0d0887\"], [0.1111111111111111, \"#46039f\"], [0.2222222222222222, \"#7201a8\"], [0.3333333333333333, \"#9c179e\"], [0.4444444444444444, \"#bd3786\"], [0.5555555555555556, \"#d8576b\"], [0.6666666666666666, \"#ed7953\"], [0.7777777777777778, \"#fb9f3a\"], [0.8888888888888888, \"#fdca26\"], [1.0, \"#f0f921\"]], \"type\": \"histogram2d\"}], \"histogram2dcontour\": [{\"colorbar\": {\"outlinewidth\": 0, \"ticks\": \"\"}, \"colorscale\": [[0.0, \"#0d0887\"], [0.1111111111111111, \"#46039f\"], [0.2222222222222222, \"#7201a8\"], [0.3333333333333333, \"#9c179e\"], [0.4444444444444444, \"#bd3786\"], [0.5555555555555556, \"#d8576b\"], [0.6666666666666666, \"#ed7953\"], [0.7777777777777778, \"#fb9f3a\"], [0.8888888888888888, \"#fdca26\"], [1.0, \"#f0f921\"]], \"type\": \"histogram2dcontour\"}], \"mesh3d\": [{\"colorbar\": {\"outlinewidth\": 0, \"ticks\": \"\"}, \"type\": \"mesh3d\"}], \"parcoords\": [{\"line\": {\"colorbar\": {\"outlinewidth\": 0, \"ticks\": \"\"}}, \"type\": \"parcoords\"}], \"pie\": [{\"automargin\": true, \"type\": \"pie\"}], \"scatter\": [{\"marker\": {\"colorbar\": {\"outlinewidth\": 0, \"ticks\": \"\"}}, \"type\": \"scatter\"}], \"scatter3d\": [{\"line\": {\"colorbar\": {\"outlinewidth\": 0, \"ticks\": \"\"}}, \"marker\": {\"colorbar\": {\"outlinewidth\": 0, \"ticks\": \"\"}}, \"type\": \"scatter3d\"}], \"scattercarpet\": [{\"marker\": {\"colorbar\": {\"outlinewidth\": 0, \"ticks\": \"\"}}, \"type\": \"scattercarpet\"}], \"scattergeo\": [{\"marker\": {\"colorbar\": {\"outlinewidth\": 0, \"ticks\": \"\"}}, \"type\": \"scattergeo\"}], \"scattergl\": [{\"marker\": {\"colorbar\": {\"outlinewidth\": 0, \"ticks\": \"\"}}, \"type\": \"scattergl\"}], \"scattermapbox\": [{\"marker\": {\"colorbar\": {\"outlinewidth\": 0, \"ticks\": \"\"}}, \"type\": \"scattermapbox\"}], \"scatterpolar\": [{\"marker\": {\"colorbar\": {\"outlinewidth\": 0, \"ticks\": \"\"}}, \"type\": \"scatterpolar\"}], \"scatterpolargl\": [{\"marker\": {\"colorbar\": {\"outlinewidth\": 0, \"ticks\": \"\"}}, \"type\": \"scatterpolargl\"}], \"scatterternary\": [{\"marker\": {\"colorbar\": {\"outlinewidth\": 0, \"ticks\": \"\"}}, \"type\": \"scatterternary\"}], \"surface\": [{\"colorbar\": {\"outlinewidth\": 0, \"ticks\": \"\"}, \"colorscale\": [[0.0, \"#0d0887\"], [0.1111111111111111, \"#46039f\"], [0.2222222222222222, \"#7201a8\"], [0.3333333333333333, \"#9c179e\"], [0.4444444444444444, \"#bd3786\"], [0.5555555555555556, \"#d8576b\"], [0.6666666666666666, \"#ed7953\"], [0.7777777777777778, \"#fb9f3a\"], [0.8888888888888888, \"#fdca26\"], [1.0, \"#f0f921\"]], \"type\": \"surface\"}], \"table\": [{\"cells\": {\"fill\": {\"color\": \"#EBF0F8\"}, \"line\": {\"color\": \"white\"}}, \"header\": {\"fill\": {\"color\": \"#C8D4E3\"}, \"line\": {\"color\": \"white\"}}, \"type\": \"table\"}]}, \"layout\": {\"annotationdefaults\": {\"arrowcolor\": \"#2a3f5f\", \"arrowhead\": 0, \"arrowwidth\": 1}, \"coloraxis\": {\"colorbar\": {\"outlinewidth\": 0, \"ticks\": \"\"}}, \"colorscale\": {\"diverging\": [[0, \"#8e0152\"], [0.1, \"#c51b7d\"], [0.2, \"#de77ae\"], [0.3, \"#f1b6da\"], [0.4, \"#fde0ef\"], [0.5, \"#f7f7f7\"], [0.6, \"#e6f5d0\"], [0.7, \"#b8e186\"], [0.8, \"#7fbc41\"], [0.9, \"#4d9221\"], [1, \"#276419\"]], \"sequential\": [[0.0, \"#0d0887\"], [0.1111111111111111, \"#46039f\"], [0.2222222222222222, \"#7201a8\"], [0.3333333333333333, \"#9c179e\"], [0.4444444444444444, \"#bd3786\"], [0.5555555555555556, \"#d8576b\"], [0.6666666666666666, \"#ed7953\"], [0.7777777777777778, \"#fb9f3a\"], [0.8888888888888888, \"#fdca26\"], [1.0, \"#f0f921\"]], \"sequentialminus\": [[0.0, \"#0d0887\"], [0.1111111111111111, \"#46039f\"], [0.2222222222222222, \"#7201a8\"], [0.3333333333333333, \"#9c179e\"], [0.4444444444444444, \"#bd3786\"], [0.5555555555555556, \"#d8576b\"], [0.6666666666666666, \"#ed7953\"], [0.7777777777777778, \"#fb9f3a\"], [0.8888888888888888, \"#fdca26\"], [1.0, \"#f0f921\"]]}, \"colorway\": [\"#636efa\", \"#EF553B\", \"#00cc96\", \"#ab63fa\", \"#FFA15A\", \"#19d3f3\", \"#FF6692\", \"#B6E880\", \"#FF97FF\", \"#FECB52\"], \"font\": {\"color\": \"#2a3f5f\"}, \"geo\": {\"bgcolor\": \"white\", \"lakecolor\": \"white\", \"landcolor\": \"#E5ECF6\", \"showlakes\": true, \"showland\": true, \"subunitcolor\": \"white\"}, \"hoverlabel\": {\"align\": \"left\"}, \"hovermode\": \"closest\", \"mapbox\": {\"style\": \"light\"}, \"paper_bgcolor\": \"white\", \"plot_bgcolor\": \"#E5ECF6\", \"polar\": {\"angularaxis\": {\"gridcolor\": \"white\", \"linecolor\": \"white\", \"ticks\": \"\"}, \"bgcolor\": \"#E5ECF6\", \"radialaxis\": {\"gridcolor\": \"white\", \"linecolor\": \"white\", \"ticks\": \"\"}}, \"scene\": {\"xaxis\": {\"backgroundcolor\": \"#E5ECF6\", \"gridcolor\": \"white\", \"gridwidth\": 2, \"linecolor\": \"white\", \"showbackground\": true, \"ticks\": \"\", \"zerolinecolor\": \"white\"}, \"yaxis\": {\"backgroundcolor\": \"#E5ECF6\", \"gridcolor\": \"white\", \"gridwidth\": 2, \"linecolor\": \"white\", \"showbackground\": true, \"ticks\": \"\", \"zerolinecolor\": \"white\"}, \"zaxis\": {\"backgroundcolor\": \"#E5ECF6\", \"gridcolor\": \"white\", \"gridwidth\": 2, \"linecolor\": \"white\", \"showbackground\": true, \"ticks\": \"\", \"zerolinecolor\": \"white\"}}, \"shapedefaults\": {\"line\": {\"color\": \"#2a3f5f\"}}, \"ternary\": {\"aaxis\": {\"gridcolor\": \"white\", \"linecolor\": \"white\", \"ticks\": \"\"}, \"baxis\": {\"gridcolor\": \"white\", \"linecolor\": \"white\", \"ticks\": \"\"}, \"bgcolor\": \"#E5ECF6\", \"caxis\": {\"gridcolor\": \"white\", \"linecolor\": \"white\", \"ticks\": \"\"}}, \"title\": {\"x\": 0.05}, \"xaxis\": {\"automargin\": true, \"gridcolor\": \"white\", \"linecolor\": \"white\", \"ticks\": \"\", \"title\": {\"standoff\": 15}, \"zerolinecolor\": \"white\", \"zerolinewidth\": 2}, \"yaxis\": {\"automargin\": true, \"gridcolor\": \"white\", \"linecolor\": \"white\", \"ticks\": \"\", \"title\": {\"standoff\": 15}, \"zerolinecolor\": \"white\", \"zerolinewidth\": 2}}}, \"title\": {\"text\": \"Price per sqft per year remaining\"}, \"xaxis\": {\"title\": {\"text\": \"Transaction date\"}}, \"yaxis\": {\"title\": {\"text\": \"Price ($/sqft/year)\"}}},\n",
       "                        {\"responsive\": true}\n",
       "                    ).then(function(){\n",
       "                            \n",
       "var gd = document.getElementById('c75abad6-7456-4dab-a2ba-1a6e81b83246');\n",
       "var x = new MutationObserver(function (mutations, observer) {{\n",
       "        var display = window.getComputedStyle(gd).display;\n",
       "        if (!display || display === 'none') {{\n",
       "            console.log([gd, 'removed!']);\n",
       "            Plotly.purge(gd);\n",
       "            observer.disconnect();\n",
       "        }}\n",
       "}});\n",
       "\n",
       "// Listen for the removal of the full notebook cells\n",
       "var notebookContainer = gd.closest('#notebook-container');\n",
       "if (notebookContainer) {{\n",
       "    x.observe(notebookContainer, {childList: true});\n",
       "}}\n",
       "\n",
       "// Listen for the clearing of the current output cell\n",
       "var outputEl = gd.closest('.output');\n",
       "if (outputEl) {{\n",
       "    x.observe(outputEl, {childList: true});\n",
       "}}\n",
       "\n",
       "                        })\n",
       "                };\n",
       "                });\n",
       "            </script>\n",
       "        </div>"
      ]
     },
     "metadata": {},
     "output_type": "display_data"
    }
   ],
   "source": [
    "hdbdata_fil = hdbdata.copy()\n",
    "hdbdata_fil['year'] = pd.to_datetime(hdbdata['month']).dt.year\n",
    "hdbdata_fil['sc'] = hdbdata_fil['pc'].apply(lambda x:int(x[0:2]))\n",
    "hdbdata_fil['price_per_sqft_per_year'] = hdbdata_fil['resale_price']/(hdbdata_fil['floor_area_sqm']*10.7639)/hdbdata_fil['remaining_lease']\n",
    "\n",
    "# Sort by sectorcode and year\n",
    "hdb_rec_group = hdbdata_fil.groupby(['sc','year'])\n",
    "\n",
    "# Create traces\n",
    "df.index.get_level_values(1)\n",
    "df['price_per_sqft_per_year']\n",
    "fig = go.Figure()\n",
    "for idx, df in hdb_rec_group.mean().groupby(level=0):\n",
    "    fig.add_trace(go.Scatter(x=df.index.get_level_values(1), y=df['price_per_sqft_per_year'],\n",
    "                    mode='lines',\n",
    "                    name='SC{}'.format(idx)))\n",
    "\n",
    "fig.update_layout(title='Price per sqft per year remaining',\n",
    "                   xaxis_title='Transaction date',\n",
    "                   yaxis_title='Price ($/sqft/year)')\n",
    "fig.show()\n",
    "\n"
   ]
  },
  {
   "cell_type": "code",
   "execution_count": null,
   "metadata": {},
   "outputs": [],
   "source": []
  }
 ],
 "metadata": {
  "jupytext": {
   "cell_metadata_filter": "-all",
   "formats": "py:hydrogen,ipynb",
   "notebook_metadata_filter": "-all"
  },
  "kernelspec": {
   "display_name": "Python 3",
   "language": "python",
   "name": "python3"
  },
  "language_info": {
   "codemirror_mode": {
    "name": "ipython",
    "version": 3
   },
   "file_extension": ".py",
   "mimetype": "text/x-python",
   "name": "python",
   "nbconvert_exporter": "python",
   "pygments_lexer": "ipython3",
   "version": "3.7.6"
  }
 },
 "nbformat": 4,
 "nbformat_minor": 4
}
