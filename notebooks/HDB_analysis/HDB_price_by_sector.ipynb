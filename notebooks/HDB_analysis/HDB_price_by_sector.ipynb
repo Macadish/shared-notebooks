{
 "cells": [
  {
   "cell_type": "code",
   "execution_count": 1,
   "metadata": {},
   "outputs": [],
   "source": [
    "from __future__ import print_function\n",
    "%load_ext autoreload\n",
    "%autoreload 2\n",
    "from src.scrap import *\n",
    "from src.load import *\n",
    "import ipywidgets as widgets\n",
    "from ipywidgets import interact, interactive, fixed, interact_manual"
   ]
  },
  {
   "cell_type": "markdown",
   "metadata": {},
   "source": [
    "Find average price of each sector in 2019\n",
    "Find average price of each sector for certain floor\n",
    "Find average price of each sea"
   ]
  },
  {
   "cell_type": "code",
   "execution_count": 2,
   "metadata": {
    "lines_to_next_cell": 1
   },
   "outputs": [],
   "source": [
    "hdbdata = load_HDB()\n",
    "hdbdata['remaining_lease']=pd.to_datetime(hdbdata['month']).dt.year - hdbdata['lease_commence_date']"
   ]
  },
  {
   "cell_type": "code",
   "execution_count": 3,
   "metadata": {
    "lines_to_next_cell": 1,
    "title": "Plot"
   },
   "outputs": [],
   "source": [
    "def sector_mean(hdbdata):\n",
    "    hdb_rec_group = hdbdata.groupby(hdbdata['pc'].apply(lambda x:int(x[0:2])))\n",
    "    hdbdata_mean = hdb_rec_group['resale_price'].mean()\n",
    "    return hdbdata_mean"
   ]
  },
  {
   "cell_type": "code",
   "execution_count": 4,
   "metadata": {
    "lines_to_next_cell": 1,
    "title": "Plot"
   },
   "outputs": [],
   "source": [
    "def plot_mean(hdbSeries):\n",
    "    shapefile = Path('/home/jovyan/shared-notebooks/notebooks/HDB_analysis/data/processed/sectorcode/sectorcode.shp')\n",
    "    sgshp = geopandas.read_file(shapefile)\n",
    "    sgshp_3857 = sgshp.to_crs(epsg=3857)\n",
    "    sale_counts_shp = pd.concat([sgshp_3857.set_index('sectorcode'),hdbSeries],axis=1)\n",
    "    plt.close('all')\n",
    "    fig = plt.figure(figsize=(30, 10))\n",
    "    ax = fig.add_subplot()\n",
    "    sale_counts_shp.plot(ax=ax,\n",
    "                         column='resale_price',\n",
    "                         alpha=0.9,\n",
    "                         edgecolor='k',\n",
    "                         missing_kwds={'color': 'lightgrey', 'alpha':0.1},\n",
    "                         legend=True,\n",
    "                         )\n",
    "    ctx.add_basemap(ax=ax, source=ctx.providers.Stamen.TonerLite)\n",
    "    ax.set_axis_off()\n",
    "    ax.set_title('Average price')"
   ]
  },
  {
   "cell_type": "code",
   "execution_count": 5,
   "metadata": {
    "lines_to_next_cell": 1,
    "title": "Define Widget"
   },
   "outputs": [],
   "source": [
    "filterdict = {\n",
    "'flat_model': widgets.SelectMultiple(\n",
    "    options=hdbdata['flat_model'].unique(),\n",
    "    value=list(hdbdata['flat_model'].unique()),\n",
    "    description='Flat Model'\n",
    "    ),\n",
    "'flat_type': widgets.SelectMultiple(\n",
    "    options=hdbdata['flat_type'].unique(),\n",
    "    value=list(hdbdata['flat_type'].unique()),\n",
    "    description='Flat Type'\n",
    "    ),\n",
    "'floor_area_sqm': widgets.FloatRangeSlider(\n",
    "    value=[hdbdata['floor_area_sqm'].min(), hdbdata['floor_area_sqm'].max()],\n",
    "    min=hdbdata['floor_area_sqm'].min(),\n",
    "    max=hdbdata['floor_area_sqm'].max(),\n",
    "    step=1,\n",
    "    description='Floor Area (sqm):'\n",
    "    ),\n",
    "'remaining_lease': widgets.FloatRangeSlider(\n",
    "    value=[hdbdata['remaining_lease'].min(), hdbdata['remaining_lease'].max()],\n",
    "    min=hdbdata['remaining_lease'].min(),\n",
    "    max=hdbdata['remaining_lease'].max(),\n",
    "    step=1,\n",
    "    description='Remaining Lease (years):'\n",
    "    ),\n",
    "'month': widgets.SelectionRangeSlider(\n",
    "    options=[(i,i) for i in hdbdata['month'].unique()],\n",
    "    index=(0, hdbdata['month'].unique().size-1),\n",
    "    description='Date of transaction',\n",
    "    ),\n",
    "'storey_range': widgets.SelectMultiple(\n",
    "    options=hdbdata['storey_range'].unique(),\n",
    "    value=list(hdbdata['storey_range'].unique()),\n",
    "    description='Storeys'\n",
    "    )\n",
    "}"
   ]
  },
  {
   "cell_type": "code",
   "execution_count": 104,
   "metadata": {
    "lines_to_next_cell": 1
   },
   "outputs": [
    {
     "data": {
      "application/vnd.jupyter.widget-view+json": {
       "model_id": "ef3656cdc76240b0b48b6b9a48bd8292",
       "version_major": 2,
       "version_minor": 0
      },
      "text/plain": [
       "interactive(children=(SelectMultiple(description='Flat Model', index=(0, 1, 2, 3, 4, 5, 6, 7, 8, 9, 10, 11, 12…"
      ]
     },
     "metadata": {},
     "output_type": "display_data"
    }
   ],
   "source": [
    "@widgets.interact_manual(**filterdict)\n",
    "def filter_HDB(flat_model, flat_type, floor_area_sqm, remaining_lease, month, storey_range):\n",
    "    bool_array = hdbdata['pc']==hdbdata['pc']\n",
    "    bool_array = bool_array & hdbdata['flat_model'].isin(flat_model)\n",
    "    bool_array = bool_array & hdbdata['flat_type'].isin(flat_type)\n",
    "    bool_array = bool_array & (hdbdata['floor_area_sqm'] <= floor_area_sqm[1]) & (hdbdata['floor_area_sqm'] >= floor_area_sqm[0])\n",
    "    bool_array = bool_array & (hdbdata['month'] <= month[1]) & (hdbdata['month'] >= month[0])\n",
    "    bool_array = bool_array & (hdbdata['remaining_lease'] <= remaining_lease[1]) & (hdbdata['remaining_lease'] >= remaining_lease[0])\n",
    "    bool_array = bool_array & hdbdata['storey_range'].isin(storey_range)\n",
    "    hdbdata_fil = hdbdata[bool_array]\n",
    "    sm = sector_mean(hdbdata_fil)\n",
    "    plot_mean(sm)\n",
    "    return hdbdata_fil\n",
    "\n",
    "# For Troubleshooting\n",
    "#hdbdata_fil_widget = interactive(filter_HDB, {'manual': True}, **filterdict)\n",
    "#display(hdbdata_fil_widget)\n",
    "#hdbdata_fil = hdbdata_fil_widget.result"
   ]
  },
  {
   "cell_type": "code",
   "execution_count": null,
   "metadata": {},
   "outputs": [],
   "source": [
    "filterdict_results = {k : v.value for k,v in filterdict.items()}\n",
    "pp = filter_HDB(**filterdict_results)\n",
    "pp\n",
    "hdbdata.columns\n",
    "hdbdata[hdbdata.isnull()['floor_area_sqm']]"
   ]
  }
 ],
 "metadata": {
  "jupytext": {
   "cell_metadata_filter": "-all",
   "formats": "py:hydrogen,ipynb",
   "notebook_metadata_filter": "-all"
  },
  "kernelspec": {
   "display_name": "Python 3",
   "language": "python",
   "name": "python3"
  },
  "language_info": {
   "codemirror_mode": {
    "name": "ipython",
    "version": 3
   },
   "file_extension": ".py",
   "mimetype": "text/x-python",
   "name": "python",
   "nbconvert_exporter": "python",
   "pygments_lexer": "ipython3",
   "version": "3.7.6"
  }
 },
 "nbformat": 4,
 "nbformat_minor": 4
}
