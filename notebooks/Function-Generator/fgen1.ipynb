{
 "cells": [
  {
   "cell_type": "code",
   "execution_count": null,
   "metadata": {
    "lines_to_next_cell": 2
   },
   "outputs": [],
   "source": [
    "from tensorflow import keras\n",
    "from tensorflow.keras import layers\n",
    "import numpy as np\n",
    "from keras.models import Sequential\n",
    "from keras.layers import Dense, Activation, LeakyReLU\n",
    "from sklearn.preprocessing import LabelBinarizer\n",
    "from sklearn.preprocessing import MinMaxScaler\n",
    "import pandas as pd\n",
    "\n",
    "import seaborn as sns\n",
    "sns.set()\n",
    "import matplotlib.pyplot as plt\n",
    "from mpl_toolkits.mplot3d import Axes3D"
   ]
  },
  {
   "cell_type": "code",
   "execution_count": null,
   "metadata": {
    "title": "Function"
   },
   "outputs": [],
   "source": [
    "f = lambda x,y:x**2/(x**2+x*y)\n",
    "#f = lambda x,y:np.sin(x)"
   ]
  },
  {
   "cell_type": "code",
   "execution_count": null,
   "metadata": {
    "lines_to_next_cell": 2,
    "title": "Plot functon"
   },
   "outputs": [],
   "source": [
    "x = np.arange(1, 4, 0.1)\n",
    "y = x\n",
    "xx, yy = np.meshgrid(x,y)\n",
    "zz = f(xx, yy)\n",
    "fig = plt.figure()\n",
    "ax = fig.gca(projection='3d')\n",
    "ax.plot_surface(xx, yy, zz, rstride=1, cstride=1,\n",
    "                cmap='viridis', edgecolor='none')\n",
    "fig"
   ]
  },
  {
   "cell_type": "code",
   "execution_count": null,
   "metadata": {
    "title": "Generate Training Data"
   },
   "outputs": [],
   "source": [
    "x_train = np.random.uniform(0.1, 4, 100000)\n",
    "y_train = np.random.uniform(0.1, 4, 100000)\n",
    "#xx_train, yy_train = np.meshgrid(x_train,y_train)\n",
    "ff_train = f(x_train, y_train)\n",
    "ff_train.max()\n",
    "x_train.min()\n",
    "y_train.min()"
   ]
  },
  {
   "cell_type": "code",
   "execution_count": null,
   "metadata": {
    "lines_to_next_cell": 2,
    "title": "Plot Training Data"
   },
   "outputs": [],
   "source": [
    "fig = plt.figure()\n",
    "ax = fig.gca(projection='3d')\n",
    "ax.plot_trisurf(y_train, x_train, ff_train, cmap=plt.cm.viridis, linewidth=0.2)\n",
    "fig"
   ]
  },
  {
   "cell_type": "code",
   "execution_count": null,
   "metadata": {
    "title": "Test data"
   },
   "outputs": [],
   "source": [
    "x_test = np.random.normal(0, 1, 100)\n",
    "y_test = np.random.normal(0, 1, 100)\n",
    "#xx_test, yy_test = np.meshgrid(x_test,y_test)\n",
    "ff = f(x_test, y_test)"
   ]
  },
  {
   "cell_type": "code",
   "execution_count": null,
   "metadata": {
    "title": "Train"
   },
   "outputs": [],
   "source": [
    "model = Sequential()\n",
    "model.add(Dense(20, activation='relu', input_dim=2))\n",
    "model.add(LeakyReLU(alpha=0.03))\n",
    "model.add(Dense(20, activation='relu'))\n",
    "model.add(LeakyReLU(alpha=0.03))\n",
    "model.add(Dense(20, activation='relu'))\n",
    "model.add(Dense(1))\n",
    "model.compile(optimizer='rmsprop', loss='mse')\n",
    "model.fit(np.vstack([x_train,y_train]).transpose(), ff_train, epochs= 20, batch_size=100)"
   ]
  },
  {
   "cell_type": "code",
   "execution_count": null,
   "metadata": {
    "title": "Preict"
   },
   "outputs": [],
   "source": [
    "model.predict(np.vstack([x_test,y_test]).transpose())"
   ]
  }
 ],
 "metadata": {
  "jupytext": {
   "cell_metadata_filter": "title,-all",
   "formats": "py:percent,ipynb",
   "notebook_metadata_filter": "-all",
   "text_representation": {
    "extension": ".py",
    "format_name": "percent"
   }
  },
  "kernelspec": {
   "display_name": "Python 3",
   "language": "python",
   "name": "python3"
  },
  "language_info": {
   "codemirror_mode": {
    "name": "ipython",
    "version": 3
   },
   "file_extension": ".py",
   "mimetype": "text/x-python",
   "name": "python",
   "nbconvert_exporter": "python",
   "pygments_lexer": "ipython3",
   "version": "3.7.6"
  }
 },
 "nbformat": 4,
 "nbformat_minor": 4
}
